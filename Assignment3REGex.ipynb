{
 "cells": [
  {
   "cell_type": "markdown",
   "id": "ce17ea6e",
   "metadata": {},
   "source": [
    "# Assignment3"
   ]
  },
  {
   "cell_type": "markdown",
   "id": "70721134",
   "metadata": {},
   "source": [
    "SUMIT KUMAR\n",
    "SIRSS2271"
   ]
  },
  {
   "cell_type": "markdown",
   "id": "cd33e809",
   "metadata": {},
   "source": [
    "# 1. Write a function to return nth term of Fibonacci sequence."
   ]
  },
  {
   "cell_type": "code",
   "execution_count": 1,
   "id": "7d5f0acf",
   "metadata": {},
   "outputs": [
    {
     "name": "stdout",
     "output_type": "stream",
     "text": [
      "Enter a number:8\n",
      "8th term of Fibonacci series is 21\n"
     ]
    }
   ],
   "source": [
    "k=int(input(\"Enter a number:\"))\n",
    "def fibo(n):\n",
    "  if n==1:\n",
    "    return 1\n",
    "  elif n==0:\n",
    "    return 0\n",
    "  else:\n",
    "    return fibo(n-1)+fibo(n-2)\n",
    "\n",
    "result=fibo(k)\n",
    "print(\"{0}th term of Fibonacci series is {1}\".format(k,result))"
   ]
  },
  {
   "cell_type": "markdown",
   "id": "7510af8f",
   "metadata": {},
   "source": [
    "# 2. Write a function to find out GCD of two numbers using EUCLID'S algorithm."
   ]
  },
  {
   "cell_type": "code",
   "execution_count": 2,
   "id": "8ddc03b7",
   "metadata": {},
   "outputs": [
    {
     "name": "stdout",
     "output_type": "stream",
     "text": [
      "Enter first number:25\n",
      "Enter second number:20\n",
      "GCD of 25 and 20 is 5\n"
     ]
    }
   ],
   "source": [
    "n1=int(input(\"Enter first number:\"))\n",
    "n2=int(input(\"Enter second number:\"))\n",
    "min1=min(n1,n2)\n",
    "res=1\n",
    "for i in range(2,min1+1):\n",
    "  if ((n1%i==0) and (n2%i==0)):\n",
    "    res=i\n",
    "\n",
    "print(\"GCD of {0} and {1} is {2}\".format(n1,n2,res))"
   ]
  },
  {
   "cell_type": "markdown",
   "id": "f7a4bb49",
   "metadata": {},
   "source": [
    "# 3. Write a function to find LCM of two number in most optimizers way."
   ]
  },
  {
   "cell_type": "code",
   "execution_count": 3,
   "id": "3d82b62d",
   "metadata": {},
   "outputs": [
    {
     "name": "stdout",
     "output_type": "stream",
     "text": [
      "Enter first number:43\n",
      "Enter second number:21\n",
      "LCM of 43 and 21 is 903\n"
     ]
    }
   ],
   "source": [
    "n1=int(input(\"Enter first number:\"))\n",
    "n2=int(input(\"Enter second number:\"))\n",
    "j=max(n1,n2)\n",
    "while(True):\n",
    "  if (j%n1==0) and (j%n2==0):\n",
    "    result=j\n",
    "    break\n",
    "  else:\n",
    "    j=j+1\n",
    "\n",
    "print(\"LCM of {0} and {1} is {2}\".format(n1,n2,result))"
   ]
  },
  {
   "cell_type": "code",
   "execution_count": null,
   "id": "14cf7b35",
   "metadata": {},
   "outputs": [],
   "source": []
  }
 ],
 "metadata": {
  "kernelspec": {
   "display_name": "Python 3",
   "language": "python",
   "name": "python3"
  },
  "language_info": {
   "codemirror_mode": {
    "name": "ipython",
    "version": 3
   },
   "file_extension": ".py",
   "mimetype": "text/x-python",
   "name": "python",
   "nbconvert_exporter": "python",
   "pygments_lexer": "ipython3",
   "version": "3.8.8"
  }
 },
 "nbformat": 4,
 "nbformat_minor": 5
}
