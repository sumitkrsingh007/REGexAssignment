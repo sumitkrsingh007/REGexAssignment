{
 "cells": [
  {
   "cell_type": "markdown",
   "id": "57ebd8f9",
   "metadata": {},
   "source": [
    "# TASK_5"
   ]
  },
  {
   "cell_type": "markdown",
   "id": "2a7e4b8c",
   "metadata": {},
   "source": [
    "# SUMIT KUMAR"
   ]
  },
  {
   "cell_type": "markdown",
   "id": "7478b94d",
   "metadata": {},
   "source": [
    "# SIRSS2271"
   ]
  },
  {
   "cell_type": "markdown",
   "id": "b530a634",
   "metadata": {},
   "source": [
    "# 1. Given a list of integers, write a function to return the sum of all prime numbers in that list."
   ]
  },
  {
   "cell_type": "code",
   "execution_count": 8,
   "id": "4a3e01ee",
   "metadata": {},
   "outputs": [
    {
     "name": "stdout",
     "output_type": "stream",
     "text": [
      "Prime numbers in list :\n",
      "2\n",
      "3\n",
      "5\n",
      "11\n",
      "13\n",
      "Sum of primes : 34\n"
     ]
    }
   ],
   "source": [
    "import math\n",
    "def prime(n):\n",
    "    if n == 0 or n == 1:\n",
    "        return False\n",
    "    else:\n",
    "        for i in range(2, int(n**0.5)+1):\n",
    "            if n%i == 0:\n",
    "                return False\n",
    "                break\n",
    "        else:\n",
    "            return True\n",
    "            \n",
    "def sum_prime(ls):\n",
    "    sum_of_primes=0\n",
    "    print(\"Prime numbers in list :\")\n",
    "    for i in ls:\n",
    "        if prime(i):\n",
    "            print(i)\n",
    "            sum_of_primes += i\n",
    "    print(\"Sum of primes :\",sum_of_primes)\n",
    "sum_prime([0,1,2,3,4,5,10,11,12,13])"
   ]
  },
  {
   "cell_type": "markdown",
   "id": "fb859115",
   "metadata": {},
   "source": [
    "# 2. Given a list of integers, write a function to check whether the list is strictly increasing or not."
   ]
  },
  {
   "cell_type": "code",
   "execution_count": 9,
   "id": "af084b58",
   "metadata": {},
   "outputs": [
    {
     "name": "stdout",
     "output_type": "stream",
     "text": [
      "76 765 8765\n",
      "List is strictly increases :  True\n"
     ]
    }
   ],
   "source": [
    "def Inc(l):\n",
    "    flag=True\n",
    "    for i in range(1,len(l)):\n",
    "        if l[i-1]>l[i]:\n",
    "            flag=False\n",
    "            break\n",
    "    return flag\n",
    "l1=input().split()\n",
    "list1=list(map(lambda x:int(x),l1))\n",
    "print('List is strictly increases : ',Inc(list1))"
   ]
  },
  {
   "cell_type": "markdown",
   "id": "c8c14c8d",
   "metadata": {},
   "source": [
    "# 3. Write a function to check whether a given list is expanding or not (the difference between adjacent elements should keep on increasing)."
   ]
  },
  {
   "cell_type": "code",
   "execution_count": 10,
   "id": "de571a2d",
   "metadata": {},
   "outputs": [
    {
     "data": {
      "text/plain": [
       "True"
      ]
     },
     "execution_count": 10,
     "metadata": {},
     "output_type": "execute_result"
    }
   ],
   "source": [
    "def expanding(l):\n",
    "    d1 = abs(l[1] - l[0])\n",
    "    d2 = abs(l[2] - l[1])\n",
    "    \n",
    "    if d1 >= d2:\n",
    "        return False\n",
    "    \n",
    "    else:\n",
    "        for i in range(3,len(l)):\n",
    "            d3 = abs(l[i] - l[i-1])\n",
    "            if d3 <= d2:\n",
    "                return False\n",
    "            d2 = d3\n",
    "        else:\n",
    "            return True\n",
    "expanding([1,3,7,2,9])"
   ]
  },
  {
   "cell_type": "markdown",
   "id": "4c8f7245",
   "metadata": {},
   "source": [
    "# 4. Write a function to calculate all permutations of a given string. (Without using itertools)"
   ]
  },
  {
   "cell_type": "code",
   "execution_count": 11,
   "id": "a5bc984f",
   "metadata": {},
   "outputs": [
    {
     "name": "stdout",
     "output_type": "stream",
     "text": [
      "Enter the String : yes\n"
     ]
    },
    {
     "data": {
      "text/plain": [
       "['yes', 'eys', 'esy', 'yse', 'sye', 'sey']"
      ]
     },
     "execution_count": 11,
     "metadata": {},
     "output_type": "execute_result"
    }
   ],
   "source": [
    "def permutation(str) :\n",
    "    if len(str) == 1 :\n",
    "        return [str]\n",
    "    prmts = permutation(str[1:])\n",
    "    fst = str[0]\n",
    "    rslt = []\n",
    "    for i in prmts :\n",
    "        for j in range(len(i)+1) :\n",
    "            rslt.append(i[:j] + fst + i[j:])\n",
    "    return rslt\n",
    "\n",
    "\n",
    "inp = str(input(\"Enter the String : \"))\n",
    "permutation(inp)"
   ]
  },
  {
   "cell_type": "code",
   "execution_count": null,
   "id": "6ff9a51e",
   "metadata": {},
   "outputs": [],
   "source": []
  }
 ],
 "metadata": {
  "kernelspec": {
   "display_name": "Python 3",
   "language": "python",
   "name": "python3"
  },
  "language_info": {
   "codemirror_mode": {
    "name": "ipython",
    "version": 3
   },
   "file_extension": ".py",
   "mimetype": "text/x-python",
   "name": "python",
   "nbconvert_exporter": "python",
   "pygments_lexer": "ipython3",
   "version": "3.8.8"
  }
 },
 "nbformat": 4,
 "nbformat_minor": 5
}
